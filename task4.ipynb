{
 "cells": [
  {
   "cell_type": "code",
   "execution_count": 14,
   "metadata": {},
   "outputs": [
    {
     "name": "stdout",
     "output_type": "stream",
     "text": [
      "old logger\n",
      "This is a log message via the adapter.\n"
     ]
    }
   ],
   "source": [
    "class OldLogger:\n",
    "    def log(self, message):\n",
    "        print(message)\n",
    "\n",
    "class NewLogger:\n",
    "    def write_log(self, msg):\n",
    "        print(msg)\n",
    "\n",
    "class LoggerAdapter(OldLogger):\n",
    "    def __init__(self, logger):\n",
    "        self.logger = logger\n",
    "    \n",
    "    def log(self, message):\n",
    "        self.logger.write_log(message)\n",
    "\n",
    "old_logger = OldLogger()\n",
    "new_logger = NewLogger()\n",
    "\n",
    "old_logger.log(\"old logger\")\n",
    "logger_adapter = LoggerAdapter(new_logger)\n",
    "logger_adapter.log(\"This is a log message via the adapter.\")"
   ]
  }
 ],
 "metadata": {
  "kernelspec": {
   "display_name": "Python 3",
   "language": "python",
   "name": "python3"
  },
  "language_info": {
   "codemirror_mode": {
    "name": "ipython",
    "version": 3
   },
   "file_extension": ".py",
   "mimetype": "text/x-python",
   "name": "python",
   "nbconvert_exporter": "python",
   "pygments_lexer": "ipython3",
   "version": "3.9.6"
  }
 },
 "nbformat": 4,
 "nbformat_minor": 2
}
